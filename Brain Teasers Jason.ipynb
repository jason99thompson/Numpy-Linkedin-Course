{
 "cells": [
  {
   "cell_type": "markdown",
   "metadata": {},
   "source": [
    "# Brain Teasers\n",
    "for more brain teasers, please see: http://www.labri.fr/perso/nrougier/teaching/numpy.100/index.html"
   ]
  },
  {
   "cell_type": "code",
   "execution_count": 3,
   "metadata": {
    "collapsed": true
   },
   "outputs": [],
   "source": [
    "import numpy as np\n",
    "np.set_printoptions(precision=2)"
   ]
  },
  {
   "cell_type": "markdown",
   "metadata": {},
   "source": [
    "### What version of NumPy are you using?"
   ]
  },
  {
   "cell_type": "code",
   "execution_count": 4,
   "metadata": {},
   "outputs": [
    {
     "name": "stdout",
     "output_type": "stream",
     "text": [
      "1.12.1\n",
      "1.12.1\n"
     ]
    }
   ],
   "source": [
    "print(np.version.version\n",
    "print(np.__version__)"
   ]
  },
  {
   "cell_type": "markdown",
   "metadata": {},
   "source": [
    "### Display array elements in reverse order"
   ]
  },
  {
   "cell_type": "code",
   "execution_count": 13,
   "metadata": {},
   "outputs": [
    {
     "name": "stdout",
     "output_type": "stream",
     "text": [
      "[9 8 7 6 5 4 3 2 1 0]\n",
      "[9 8 7 6 5 4 3 2 1 0]\n"
     ]
    }
   ],
   "source": [
    "array = np.arange(10)\n",
    "print(array[::-1])\n",
    "print(np.flip(array, 0))\n",
    "array_reverse = np.flip(array, 0)"
   ]
  },
  {
   "cell_type": "markdown",
   "metadata": {},
   "source": [
    "### Triple elements in array"
   ]
  },
  {
   "cell_type": "code",
   "execution_count": 15,
   "metadata": {},
   "outputs": [
    {
     "name": "stdout",
     "output_type": "stream",
     "text": [
      "[27 24 21 18 15 12  9  6  3  0]\n"
     ]
    }
   ],
   "source": [
    "array_reverse3 = array_reverse * 3\n",
    "print(array_reverse3)"
   ]
  },
  {
   "cell_type": "markdown",
   "metadata": {},
   "source": [
    "### Create array with 20 zeros; every fifth element equals four"
   ]
  },
  {
   "cell_type": "code",
   "execution_count": 32,
   "metadata": {},
   "outputs": [
    {
     "name": "stdout",
     "output_type": "stream",
     "text": [
      "[0 0 0 0 4 0 0 0 0 4 0 0 0 0 4 0 0 0 0 4]\n"
     ]
    }
   ],
   "source": [
    "np_zero = np.zeros(20)\n",
    "np_index = np.arange(20) + 1\n",
    "zero_mod_5_mask = 0 == (np_index % 5)\n",
    "\n",
    "np_zero_5 = zero_mod_5_mask.astype(int) * 4\n",
    "\n",
    "print(np_zero_5)\n",
    "\n",
    "\n"
   ]
  },
  {
   "cell_type": "code",
   "execution_count": 5,
   "metadata": {},
   "outputs": [
    {
     "data": {
      "text/plain": [
       "array([ 4.,  0.,  0.,  0.,  0.,  4.,  0.,  0.,  0.,  0.,  4.,  0.,  0.,\n",
       "        0.,  0.,  4.,  0.,  0.,  0.,  0.])"
      ]
     },
     "execution_count": 5,
     "metadata": {},
     "output_type": "execute_result"
    }
   ],
   "source": [
    "my_array = np.zeros(20)\n",
    "my_array[0::5] = 4\n",
    "my_array"
   ]
  },
  {
   "cell_type": "markdown",
   "metadata": {},
   "source": [
    "### Transpose the rows and columns"
   ]
  },
  {
   "cell_type": "code",
   "execution_count": 36,
   "metadata": {},
   "outputs": [
    {
     "name": "stdout",
     "output_type": "stream",
     "text": [
      "[[ 0  1  2  3  4]\n",
      " [ 5  6  7  8  9]\n",
      " [10 11 12 13 14]\n",
      " [15 16 17 18 19]]\n",
      "[[ 0  5 10 15]\n",
      " [ 1  6 11 16]\n",
      " [ 2  7 12 17]\n",
      " [ 3  8 13 18]\n",
      " [ 4  9 14 19]]\n"
     ]
    }
   ],
   "source": [
    "array = np.arange(20).reshape(4,5)\n",
    "print(array)\n",
    "print(array.T)"
   ]
  },
  {
   "cell_type": "markdown",
   "metadata": {},
   "source": [
    "### Create a 5x5 identity matrix with integer components"
   ]
  },
  {
   "cell_type": "code",
   "execution_count": 6,
   "metadata": {},
   "outputs": [
    {
     "name": "stdout",
     "output_type": "stream",
     "text": [
      "[[ 1.  0.  0.  0.  0.]\n",
      " [ 0.  1.  0.  0.  0.]\n",
      " [ 0.  0.  1.  0.  0.]\n",
      " [ 0.  0.  0.  1.  0.]\n",
      " [ 0.  0.  0.  0.  1.]]\n",
      "[[1 0 0 0 0]\n",
      " [0 1 0 0 0]\n",
      " [0 0 1 0 0]\n",
      " [0 0 0 1 0]\n",
      " [0 0 0 0 1]]\n"
     ]
    }
   ],
   "source": [
    "a = np.eye(5)\n",
    "\n",
    "print(a)\n",
    "print(a.astype(int))"
   ]
  },
  {
   "cell_type": "code",
   "execution_count": 7,
   "metadata": {},
   "outputs": [
    {
     "data": {
      "text/plain": [
       "matrix([[1, 0, 0, 0, 0],\n",
       "        [0, 1, 0, 0, 0],\n",
       "        [0, 0, 1, 0, 0],\n",
       "        [0, 0, 0, 1, 0],\n",
       "        [0, 0, 0, 0, 1]])"
      ]
     },
     "execution_count": 7,
     "metadata": {},
     "output_type": "execute_result"
    }
   ],
   "source": [
    "my_matrix = np.asmatrix(np.eye(5, dtype='int'))\n",
    "my_matrix"
   ]
  },
  {
   "cell_type": "markdown",
   "metadata": {},
   "source": [
    "### Find the mean of a vector with 30 random elements.  Can you guess the approximate value for the mean?"
   ]
  },
  {
   "cell_type": "code",
   "execution_count": 44,
   "metadata": {},
   "outputs": [
    {
     "name": "stdout",
     "output_type": "stream",
     "text": [
      "[ 0.72  0.48  0.33  0.98  0.33  0.94  0.64  0.21  0.34  0.29  0.02  0.36\n",
      "  0.47  0.78  0.71  0.08  0.54  0.96  0.54  0.86  0.07  0.94  0.79  0.76\n",
      "  0.56  0.83  0.78  0.54  0.24  0.21]\n",
      "0.543010408985\n"
     ]
    }
   ],
   "source": [
    "a = np.random.rand(30)\n",
    "\n",
    "print(a)\n",
    "print(np.mean(a))"
   ]
  },
  {
   "cell_type": "code",
   "execution_count": 8,
   "metadata": {},
   "outputs": [
    {
     "data": {
      "text/plain": [
       "0.47013146698209313"
      ]
     },
     "execution_count": 8,
     "metadata": {},
     "output_type": "execute_result"
    }
   ],
   "source": [
    "my_random_vector = np.random.random(30)\n",
    "my_random_vector.mean()"
   ]
  },
  {
   "cell_type": "markdown",
   "metadata": {},
   "source": [
    "#### Repeat, and visually estimate the mean for the sum of the two means"
   ]
  },
  {
   "cell_type": "code",
   "execution_count": 45,
   "metadata": {},
   "outputs": [
    {
     "name": "stdout",
     "output_type": "stream",
     "text": [
      "[ 0.41  0.23  0.45  0.62  0.15  0.4   0.25  0.1   0.1   0.6   0.04  0.28\n",
      "  0.88  0.9   0.86  0.78  0.25  0.97  0.55  0.26  0.77  0.68  0.02  0.29\n",
      "  0.71  0.42  0.78  0.99  0.09  0.29]\n",
      "0.470581639048\n"
     ]
    }
   ],
   "source": [
    "b = np.random.rand(30)\n",
    "\n",
    "print(b)\n",
    "print(np.mean(b))"
   ]
  },
  {
   "cell_type": "markdown",
   "metadata": {},
   "source": [
    "#### Repeat, and visually estimate the mean for the sum of the two means"
   ]
  },
  {
   "cell_type": "code",
   "execution_count": null,
   "metadata": {
    "collapsed": true
   },
   "outputs": [],
   "source": []
  },
  {
   "cell_type": "markdown",
   "metadata": {},
   "source": [
    "### Create a 2d array with ones on the border and zeros inside the border"
   ]
  },
  {
   "cell_type": "code",
   "execution_count": 37,
   "metadata": {},
   "outputs": [
    {
     "name": "stdout",
     "output_type": "stream",
     "text": [
      "[[0 0 0 0 0 0 0 0]\n",
      " [0 0 0 0 0 0 0 0]\n",
      " [0 0 0 0 0 0 0 0]\n",
      " [0 0 0 0 0 0 0 0]\n",
      " [0 0 0 0 0 0 0 0]\n",
      " [0 0 0 0 0 0 0 0]\n",
      " [0 0 0 0 0 0 0 0]\n",
      " [0 0 0 0 0 0 0 0]]\n"
     ]
    }
   ],
   "source": [
    "my_array = np.zeros(64, dtype=int).reshape(8,8)\n",
    "#my_array[0 ::-1] = 1\n",
    "#my_array[0 :-1, 0] = 1\n",
    "#my_array[-1 :: ] = 1\n",
    "my_array[0 :-1, -1:] = 0\n",
    "\n",
    "print(my_array)"
   ]
  },
  {
   "cell_type": "code",
   "execution_count": 38,
   "metadata": {},
   "outputs": [
    {
     "data": {
      "text/plain": [
       "array([[ 1.,  1.,  1.,  1.,  1.],\n",
       "       [ 1.,  0.,  0.,  0.,  1.],\n",
       "       [ 1.,  0.,  0.,  0.,  1.],\n",
       "       [ 1.,  0.,  0.,  0.,  1.],\n",
       "       [ 1.,  1.,  1.,  1.,  1.]])"
      ]
     },
     "execution_count": 38,
     "metadata": {},
     "output_type": "execute_result"
    }
   ],
   "source": [
    "my_bordered_array = np.ones((5,5))\n",
    "my_bordered_array[1:-1,1:-1] = 0\n",
    "my_bordered_array"
   ]
  },
  {
   "cell_type": "markdown",
   "metadata": {},
   "source": [
    "### Create an 8x8 checker board with alternating zeros and ones"
   ]
  },
  {
   "cell_type": "code",
   "execution_count": 12,
   "metadata": {},
   "outputs": [
    {
     "name": "stdout",
     "output_type": "stream",
     "text": [
      "[[0 1 0 1 0 1 0 1]\n",
      " [1 0 1 0 1 0 1 0]\n",
      " [0 1 0 1 0 1 0 1]\n",
      " [1 0 1 0 1 0 1 0]\n",
      " [0 1 0 1 0 1 0 1]\n",
      " [1 0 1 0 1 0 1 0]\n",
      " [0 1 0 1 0 1 0 1]\n",
      " [1 0 1 0 1 0 1 0]]\n"
     ]
    }
   ],
   "source": [
    "checker_row1 = [0,1]\n",
    "checker_row2 = [1,0]\n",
    "\n",
    "np_checker_row1 = np.asarray(checker_row1)\n",
    "np_checker_row2 = np.asarray(checker_row2)\n",
    "\n",
    "np_checker_row1 = np.tile(np_checker_row1, 4)\n",
    "np_checker_row2 = np.tile(np_checker_row2, 4)\n",
    "\n",
    "np_checker_2rows = np.append(np_checker_row1, np_checker_row2)\n",
    "\n",
    "np_checker_all = np.tile(np_checker_2rows, 4)\n",
    "\n",
    "np_checker_all_reshape = np_checker_all.reshape(8, 8)\n",
    "\n",
    "print(np_checker_all_reshape)\n",
    "\n"
   ]
  },
  {
   "cell_type": "code",
   "execution_count": 42,
   "metadata": {},
   "outputs": [
    {
     "name": "stdout",
     "output_type": "stream",
     "text": [
      "[[0 1 0 1 0 1 0 1]\n",
      " [1 0 1 0 1 0 1 0]\n",
      " [0 1 0 1 0 1 0 1]\n",
      " [1 0 1 0 1 0 1 0]\n",
      " [0 1 0 1 0 1 0 1]\n",
      " [1 0 1 0 1 0 1 0]\n",
      " [0 1 0 1 0 1 0 1]\n",
      " [1 0 1 0 1 0 1 0]]\n"
     ]
    }
   ],
   "source": [
    "my_checker_board = np.zeros((8,8),dtype=int)\n",
    "my_checker_board[1::2,::2] = 1\n",
    "my_checker_board[::2,1::2] = 1\n",
    "print(my_checker_board)"
   ]
  },
  {
   "cell_type": "markdown",
   "metadata": {},
   "source": [
    "### Create a sorted vector that contain 'n' random numbers"
   ]
  },
  {
   "cell_type": "code",
   "execution_count": 15,
   "metadata": {},
   "outputs": [
    {
     "name": "stdout",
     "output_type": "stream",
     "text": [
      "[ 0.13  0.14  0.14  0.15  0.23  0.28  0.31  0.42  0.43  0.45  0.45  0.47\n",
      "  0.48  0.48  0.5   0.61  0.63  0.66  0.77  0.81  0.84  0.84  0.85  0.89\n",
      "  0.91  0.93  0.93  0.95  0.96  0.96]\n"
     ]
    }
   ],
   "source": [
    "a = np.sort(np.random.rand(30))\n",
    "print(a)"
   ]
  },
  {
   "cell_type": "markdown",
   "metadata": {},
   "source": [
    "### Without sorting, replace largest element in random array with the value 1234"
   ]
  },
  {
   "cell_type": "code",
   "execution_count": 27,
   "metadata": {},
   "outputs": [
    {
     "name": "stdout",
     "output_type": "stream",
     "text": [
      "19\n",
      "[ 0.74  0.48  0.24  0.16  0.36  0.82  0.25  0.72  0.75  0.46  0.24  0.88\n",
      "  0.63  0.15  0.79  0.19  0.17  0.59  0.06  0.98  0.5   0.94  0.83  0.89\n",
      "  0.84  0.07  0.18  0.87  0.2   0.66]\n",
      "[  7.35e-01   4.78e-01   2.45e-01   1.60e-01   3.64e-01   8.20e-01\n",
      "   2.51e-01   7.23e-01   7.46e-01   4.59e-01   2.36e-01   8.80e-01\n",
      "   6.26e-01   1.52e-01   7.92e-01   1.94e-01   1.69e-01   5.93e-01\n",
      "   6.09e-02   1.23e+03   4.98e-01   9.39e-01   8.30e-01   8.91e-01\n",
      "   8.41e-01   6.66e-02   1.80e-01   8.70e-01   2.04e-01   6.64e-01]\n"
     ]
    }
   ],
   "source": [
    "a = np.random.rand(30)\n",
    "\n",
    "print(np.argmax(a))\n",
    "print(a)\n",
    "\n",
    "mx_ind = np.argmax(a)\n",
    "a[mx_ind] = 1234\n",
    "\n",
    "print(a)\n",
    "\n"
   ]
  },
  {
   "cell_type": "markdown",
   "metadata": {},
   "source": [
    "### Given the following data type and data set; sort according to 'height'\n",
    "\n",
    "source: http://docs.scipy.org/doc/numpy/reference/generated/numpy.sort.html"
   ]
  },
  {
   "cell_type": "code",
   "execution_count": 44,
   "metadata": {
    "collapsed": true
   },
   "outputs": [],
   "source": [
    "camelot_dtype = [('name', 'S10'), ('height', float), ('age', int)]\n",
    "camelot_values = [('Arthur', 1.8, 41), ('Lancelot', 1.9, 38), ('Galahad', 1.7, 38)]"
   ]
  },
  {
   "cell_type": "code",
   "execution_count": 37,
   "metadata": {},
   "outputs": [
    {
     "name": "stdout",
     "output_type": "stream",
     "text": [
      "[['Arthur' '1.7' '38']\n",
      " ['Galahad' '1.8' '38']\n",
      " ['Lancelot' '1.9' '41']]\n"
     ]
    }
   ],
   "source": [
    "#print(camelot_values)\n",
    "\n",
    "np_camelot_values = np.asarray(camelot_values)\n",
    "#print(np_camelot_values)\n",
    "print(np.sort(np_camelot_values, axis=0))"
   ]
  },
  {
   "cell_type": "code",
   "execution_count": 45,
   "metadata": {},
   "outputs": [
    {
     "name": "stdout",
     "output_type": "stream",
     "text": [
      "(b'Galahad',  1.7, 38)\n",
      "(b'Arthur',  1.8, 41)\n",
      "(b'Lancelot',  1.9, 38)\n"
     ]
    }
   ],
   "source": [
    "camelot_structured_array = np.array(camelot_values, dtype=camelot_dtype)\n",
    "camelot_sorted_array = np.sort(camelot_structured_array, order='height')\n",
    "for n in np.arange(camelot_sorted_array.size):\n",
    "    print (camelot_sorted_array[n])"
   ]
  },
  {
   "cell_type": "markdown",
   "metadata": {},
   "source": [
    "### Make an array read-only (immutable)"
   ]
  },
  {
   "cell_type": "code",
   "execution_count": 46,
   "metadata": {},
   "outputs": [
    {
     "ename": "ValueError",
     "evalue": "assignment destination is read-only",
     "output_type": "error",
     "traceback": [
      "\u001b[1;31m---------------------------------------------------------------------------\u001b[0m",
      "\u001b[1;31mValueError\u001b[0m                                Traceback (most recent call last)",
      "\u001b[1;32m<ipython-input-46-c397e24a0eec>\u001b[0m in \u001b[0;36m<module>\u001b[1;34m()\u001b[0m\n\u001b[0;32m      1\u001b[0m \u001b[0mmy_ordinary_array\u001b[0m \u001b[1;33m=\u001b[0m \u001b[0mnp\u001b[0m\u001b[1;33m.\u001b[0m\u001b[0marray\u001b[0m\u001b[1;33m(\u001b[0m\u001b[0mnp\u001b[0m\u001b[1;33m.\u001b[0m\u001b[0marange\u001b[0m\u001b[1;33m(\u001b[0m\u001b[1;36m12\u001b[0m\u001b[1;33m)\u001b[0m\u001b[1;33m)\u001b[0m\u001b[1;33m\u001b[0m\u001b[0m\n\u001b[0;32m      2\u001b[0m \u001b[0mmy_ordinary_array\u001b[0m\u001b[1;33m.\u001b[0m\u001b[0mflags\u001b[0m\u001b[1;33m.\u001b[0m\u001b[0mwriteable\u001b[0m \u001b[1;33m=\u001b[0m \u001b[1;32mFalse\u001b[0m\u001b[1;33m\u001b[0m\u001b[0m\n\u001b[1;32m----> 3\u001b[1;33m \u001b[0mmy_ordinary_array\u001b[0m\u001b[1;33m[\u001b[0m\u001b[1;36m5\u001b[0m\u001b[1;33m]\u001b[0m \u001b[1;33m=\u001b[0m \u001b[1;36m1234\u001b[0m\u001b[1;33m\u001b[0m\u001b[0m\n\u001b[0m",
      "\u001b[1;31mValueError\u001b[0m: assignment destination is read-only"
     ]
    }
   ],
   "source": [
    "my_ordinary_array = np.array(np.arange(12))\n",
    "my_ordinary_array.flags.writeable = False\n",
    "my_ordinary_array[5] = 1234"
   ]
  },
  {
   "cell_type": "markdown",
   "metadata": {},
   "source": [
    "### Print enumerated values from a 3x3 NumPy array"
   ]
  },
  {
   "cell_type": "code",
   "execution_count": 47,
   "metadata": {},
   "outputs": [
    {
     "name": "stdout",
     "output_type": "stream",
     "text": [
      "(0, 0) 0\n",
      "(0, 1) 1\n",
      "(0, 2) 2\n",
      "(1, 0) 3\n",
      "(1, 1) 4\n",
      "(1, 2) 5\n",
      "(2, 0) 6\n",
      "(2, 1) 7\n",
      "(2, 2) 8\n"
     ]
    }
   ],
   "source": [
    "my_3_3_array = np.arange(9).reshape(3,3)\n",
    "for index, value in np.ndenumerate(my_3_3_array):\n",
    "    print(index, value)"
   ]
  }
 ],
 "metadata": {
  "kernelspec": {
   "display_name": "Python 3",
   "language": "python",
   "name": "python3"
  },
  "language_info": {
   "codemirror_mode": {
    "name": "ipython",
    "version": 3
   },
   "file_extension": ".py",
   "mimetype": "text/x-python",
   "name": "python",
   "nbconvert_exporter": "python",
   "pygments_lexer": "ipython3",
   "version": "3.6.1"
  }
 },
 "nbformat": 4,
 "nbformat_minor": 1
}
